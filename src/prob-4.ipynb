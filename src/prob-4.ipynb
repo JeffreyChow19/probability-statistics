{
 "cells": [
  {
   "attachments": {},
   "cell_type": "markdown",
   "metadata": {},
   "source": [
    "# NOMOR 4\n",
    "Melakukan test hipotesis 1 sampel, <br>\n",
    "a. Nilai rata-rata pH di atas 3.29? <br>\n",
    "b. Nilai rata-rata Residual Sugar tidak sama dengan 2.50? <br>\n",
    "c. Nilai rata-rata 150 baris pertama kolom sulphates bukan 0.65? <br>\n",
    "d. Nilai rata-rata total sulfur dioxide di bawah 35? <br>\n",
    "e. Proporsi nilai total Sulfat Dioxide yang lebih dari 40, adalah tidak sama dengan 50% ? <br>"
   ]
  },
  {
   "cell_type": "code",
   "execution_count": 23,
   "metadata": {},
   "outputs": [
    {
     "data": {
      "text/html": [
       "<div>\n",
       "<style scoped>\n",
       "    .dataframe tbody tr th:only-of-type {\n",
       "        vertical-align: middle;\n",
       "    }\n",
       "\n",
       "    .dataframe tbody tr th {\n",
       "        vertical-align: top;\n",
       "    }\n",
       "\n",
       "    .dataframe thead th {\n",
       "        text-align: right;\n",
       "    }\n",
       "</style>\n",
       "<table border=\"1\" class=\"dataframe\">\n",
       "  <thead>\n",
       "    <tr style=\"text-align: right;\">\n",
       "      <th></th>\n",
       "      <th>fixed acidity</th>\n",
       "      <th>volatile acidity</th>\n",
       "      <th>citric acid</th>\n",
       "      <th>residual sugar</th>\n",
       "      <th>chlorides</th>\n",
       "      <th>free sulfur dioxide</th>\n",
       "      <th>total sulfur dioxide</th>\n",
       "      <th>density</th>\n",
       "      <th>pH</th>\n",
       "      <th>sulphates</th>\n",
       "      <th>alcohol</th>\n",
       "      <th>quality</th>\n",
       "    </tr>\n",
       "  </thead>\n",
       "  <tbody>\n",
       "    <tr>\n",
       "      <th>0</th>\n",
       "      <td>5.90</td>\n",
       "      <td>0.4451</td>\n",
       "      <td>0.1813</td>\n",
       "      <td>2.049401</td>\n",
       "      <td>0.070574</td>\n",
       "      <td>16.593818</td>\n",
       "      <td>42.27</td>\n",
       "      <td>0.9982</td>\n",
       "      <td>3.27</td>\n",
       "      <td>0.71</td>\n",
       "      <td>8.64</td>\n",
       "      <td>7</td>\n",
       "    </tr>\n",
       "    <tr>\n",
       "      <th>1</th>\n",
       "      <td>8.40</td>\n",
       "      <td>0.5768</td>\n",
       "      <td>0.2099</td>\n",
       "      <td>3.109590</td>\n",
       "      <td>0.101681</td>\n",
       "      <td>22.555519</td>\n",
       "      <td>16.01</td>\n",
       "      <td>0.9960</td>\n",
       "      <td>3.35</td>\n",
       "      <td>0.57</td>\n",
       "      <td>10.03</td>\n",
       "      <td>8</td>\n",
       "    </tr>\n",
       "    <tr>\n",
       "      <th>2</th>\n",
       "      <td>7.54</td>\n",
       "      <td>0.5918</td>\n",
       "      <td>0.3248</td>\n",
       "      <td>3.673744</td>\n",
       "      <td>0.072416</td>\n",
       "      <td>9.316866</td>\n",
       "      <td>35.52</td>\n",
       "      <td>0.9990</td>\n",
       "      <td>3.31</td>\n",
       "      <td>0.64</td>\n",
       "      <td>9.23</td>\n",
       "      <td>8</td>\n",
       "    </tr>\n",
       "    <tr>\n",
       "      <th>3</th>\n",
       "      <td>5.39</td>\n",
       "      <td>0.4201</td>\n",
       "      <td>0.3131</td>\n",
       "      <td>3.371815</td>\n",
       "      <td>0.072755</td>\n",
       "      <td>18.212300</td>\n",
       "      <td>41.97</td>\n",
       "      <td>0.9945</td>\n",
       "      <td>3.34</td>\n",
       "      <td>0.55</td>\n",
       "      <td>14.07</td>\n",
       "      <td>9</td>\n",
       "    </tr>\n",
       "    <tr>\n",
       "      <th>4</th>\n",
       "      <td>6.51</td>\n",
       "      <td>0.5675</td>\n",
       "      <td>0.1940</td>\n",
       "      <td>4.404723</td>\n",
       "      <td>0.066379</td>\n",
       "      <td>9.360591</td>\n",
       "      <td>46.27</td>\n",
       "      <td>0.9925</td>\n",
       "      <td>3.27</td>\n",
       "      <td>0.45</td>\n",
       "      <td>11.49</td>\n",
       "      <td>8</td>\n",
       "    </tr>\n",
       "  </tbody>\n",
       "</table>\n",
       "</div>"
      ],
      "text/plain": [
       "   fixed acidity  volatile acidity  citric acid  residual sugar  chlorides  \\\n",
       "0           5.90            0.4451       0.1813        2.049401   0.070574   \n",
       "1           8.40            0.5768       0.2099        3.109590   0.101681   \n",
       "2           7.54            0.5918       0.3248        3.673744   0.072416   \n",
       "3           5.39            0.4201       0.3131        3.371815   0.072755   \n",
       "4           6.51            0.5675       0.1940        4.404723   0.066379   \n",
       "\n",
       "   free sulfur dioxide  total sulfur dioxide  density    pH  sulphates  \\\n",
       "0            16.593818                 42.27   0.9982  3.27       0.71   \n",
       "1            22.555519                 16.01   0.9960  3.35       0.57   \n",
       "2             9.316866                 35.52   0.9990  3.31       0.64   \n",
       "3            18.212300                 41.97   0.9945  3.34       0.55   \n",
       "4             9.360591                 46.27   0.9925  3.27       0.45   \n",
       "\n",
       "   alcohol  quality  \n",
       "0     8.64        7  \n",
       "1    10.03        8  \n",
       "2     9.23        8  \n",
       "3    14.07        9  \n",
       "4    11.49        8  "
      ]
     },
     "execution_count": 23,
     "metadata": {},
     "output_type": "execute_result"
    }
   ],
   "source": [
    "import pandas as pd\n",
    "import scipy.stats as st\n",
    "import matplotlib.pyplot as plt\n",
    "import math\n",
    "\n",
    "df = pd.read_csv('../dataset/anggur.csv')\n",
    "df.head()"
   ]
  },
  {
   "cell_type": "code",
   "execution_count": 24,
   "metadata": {},
   "outputs": [],
   "source": [
    "def ztest(sampel, miu):\n",
    "    avg = sampel.mean()\n",
    "    std = sampel.std()\n",
    "    n = sampel.count()\n",
    "    return (avg-miu)/(std/math.sqrt(n))"
   ]
  },
  {
   "attachments": {},
   "cell_type": "markdown",
   "metadata": {},
   "source": [
    "### a) Nilai rata-rata pH di atas 3.29\n",
    "\n",
    "**1. Tentukan nilai hipotesis nol ($H_0$)** <br>\n",
    "$H_0$: Nilai rata rata pH sama dengan $3.29$ ($\\mu = 3.29$)  \n",
    "\n",
    "**2. Tentukan hipotesis alternatif ($H_1$)** <br>\n",
    "$H_1$: Nilai rata rata pH lebih dari $3.29$ ($\\mu > 3.29$)\n",
    "\n",
    "**3. Tentukan tingkat signifikan** <br>\n",
    "Tingkat Signifikan $\\alpha = 0.05$\n",
    "\n",
    "**4. Tentukan uji statistik yang sesuai dan tentukan daerah kritis.** <br>\n",
    "Uji statistik: **One Tailed Mean Test** <br>\n",
    "Critical section: $z > z_\\alpha$ : $z > z_{0.05}$\n",
    "\n",
    "**5. Hitung nilai uji statistik** <br>\n",
    "Hitung nilai z dengan rumus\n",
    "\n",
    "$$ z = \\frac{\\bar{x} - \\mu_0}{\\sigma/\\sqrt{n}} $$\n",
    "\n",
    "Hitung nilai P\n",
    "\n",
    "**6. KEPUTUSAN : Tolak $H_0$ jika $z > z_\\alpha$ dan $p < \\alpha$**"
   ]
  },
  {
   "cell_type": "code",
   "execution_count": 25,
   "metadata": {},
   "outputs": [
    {
     "name": "stdout",
     "output_type": "stream",
     "text": [
      "Nilai z : 4.1038\n",
      "Nilai z_alpha : 1.6449\n",
      "Nilai P : 2.0322630043219585e-05\n",
      "H0 ditolak\n"
     ]
    },
    {
     "data": {
      "image/png": "[encoded data removed]",
      "text/plain": [
       "<Figure size 864x432 with 1 Axes>"
      ]
     },
     "metadata": {
      "needs_background": "light"
     },
     "output_type": "display_data"
    }
   ],
   "source": [
    "mu = 3.29\n",
    "alpha = 0.05\n",
    "\n",
    "#calculate z \n",
    "z = ztest(df[\"pH\"], mu)\n",
    "\n",
    "#calculate z_alpha\n",
    "z_alpha = st.norm.ppf(1-alpha)\n",
    "\n",
    "#calculate p\n",
    "p = st.norm.sf(abs(z))\n",
    "\n",
    "print(f\"Nilai z : {round(z, 4)}\")\n",
    "print(f\"Nilai z_alpha : {round(z_alpha, 4)}\")\n",
    "print(f\"Nilai P : {p}\")\n",
    "\n",
    "if (z>z_alpha and p<alpha):\n",
    "    print(\"H0 ditolak\")\n",
    "else:\n",
    "    print(\"H0 diterima\")\n",
    "\n",
    "df[\"pH\"].plot(kind=\"box\", figsize=(12, 6))\n",
    "plt.title=(\"pH\")\n",
    "plt.show()"
   ]
  },
  {
   "attachments": {},
   "cell_type": "markdown",
   "metadata": {},
   "source": [
    "Dari hasil di atas, nampak bahwa H0 ditolak. Jadi, **rata-rata pH > 3.29**"
   ]
  },
  {
   "attachments": {},
   "cell_type": "markdown",
   "metadata": {},
   "source": [
    "### b) Nilai rata-rata Residual Sugar tidak sama dengan 2.50\n",
    "\n",
    "**1. Tentukan nilai hipotesis nol ($H_0$)** <br>\n",
    "$H_0$: Nilai rata rata residual sugar sama dengan $2.50$ ($\\mu = 2.50$)  \n",
    "\n",
    "**2. Tentukan hipotesis alternatif ($H_1$)** <br>\n",
    "$H_1$: Nilai rata rata residual sugar lebih dari $2.50$ ($\\mu \\ne 205$)\n",
    "\n",
    "**3. Tentukan tingkat signifikan** <br>\n",
    "Tingkat Signifikan $\\alpha = 0.05$\n",
    "\n",
    "**4. Tentukan uji statistik yang sesuai dan tentukan daerah kritis.** <br>\n",
    "Uji statistik: **Two Tailed Mean Test** <br>\n",
    "Critical section: $z > z_{\\alpha/2}$ atau $z < -z_{\\alpha/2}$  : $z > z_{0.025}$ atau $z < -z_{0.025}$\n",
    "\n",
    "**5. Hitung nilai uji statistik** <br>\n",
    "Hitung nilai z dengan rumus\n",
    "\n",
    "$$ z = \\frac{\\bar{x} - \\mu_0}{\\sigma/\\sqrt{n}} $$\n",
    "\n",
    "Hitung nilai P\n",
    "\n",
    "**6. KEPUTUSAN : Tolak $H_0$ jika $(z > z_{\\alpha/2}$ atau $z < -z_{\\alpha/2})$ dan $p < \\alpha$**"
   ]
  },
  {
   "cell_type": "code",
   "execution_count": 41,
   "metadata": {},
   "outputs": [
    {
     "name": "stdout",
     "output_type": "stream",
     "text": [
      "Nilai z : 2.148\n",
      "Nilai z_alpha/2 : 1.96\n",
      "Nilai P : 0.01585838940936656\n",
      "H0 ditolak\n"
     ]
    },
    {
     "data": {
      "image/png": "[encoded data removed]",
      "text/plain": [
       "<Figure size 864x432 with 1 Axes>"
      ]
     },
     "metadata": {
      "needs_background": "light"
     },
     "output_type": "display_data"
    }
   ],
   "source": [
    "mu = 2.50\n",
    "alpha = 0.05\n",
    "\n",
    "#calculate z \n",
    "z = ztest(df[\"residual sugar\"], mu)\n",
    "\n",
    "#calculate z_alpha\n",
    "z_alpha = st.norm.ppf(1-alpha/2)\n",
    "\n",
    "#calculate p\n",
    "p = st.norm.sf(abs(z))\n",
    "\n",
    "print(f\"Nilai z : {round(z, 4)}\")\n",
    "print(f\"Nilai z_alpha/2 : {round(z_alpha, 4)}\")\n",
    "print(f\"Nilai P : {p}\")\n",
    "\n",
    "if ((z>z_alpha or z < -z_alpha) and p<alpha):\n",
    "    print(\"H0 ditolak\")\n",
    "else:\n",
    "    print(\"H0 diterima\")\n",
    "\n",
    "df[\"residual sugar\"].plot(kind=\"box\", figsize=(12, 6))\n",
    "plt.title=(\"Residual Sugar\")\n",
    "plt.show()"
   ]
  },
  {
   "attachments": {},
   "cell_type": "markdown",
   "metadata": {},
   "source": [
    "Dari hasil di atas, nampak bahwa H0 ditolak. Jadi, **rata-rata residual sugar tidak sama dengan 2.50**"
   ]
  },
  {
   "attachments": {},
   "cell_type": "markdown",
   "metadata": {},
   "source": [
    "### c) Nilai rata-rata 150 baris pertama kolom sulphates bukan 0.65\n",
    "\n",
    "**1. Tentukan nilai hipotesis nol ($H_0$)** <br>\n",
    "$H_0$: Nilai rata rata 50 baris pertama kolom sulphates sama dengan $0.65$ ($\\mu = 0.65$)  \n",
    "\n",
    "**2. Tentukan hipotesis alternatif ($H_1$)** <br>\n",
    "$H_1$: Nilai rata rata 50 baris pertama kolom sulphates lebih dari $0.65$ ($\\mu \\ne 0.65$)\n",
    "\n",
    "**3. Tentukan tingkat signifikan** <br>\n",
    "Tingkat Signifikan $\\alpha = 0.05$\n",
    "\n",
    "**4. Tentukan uji statistik yang sesuai dan tentukan daerah kritis.** <br>\n",
    "Uji statistik: **Two Tailed Mean Test** <br>\n",
    "Critical section: $z > z_{\\alpha/2}$ atau $z < -z_{\\alpha/2}$  : $z > z_{0.025}$ atau $z < -z_{0.025}$\n",
    "\n",
    "**5. Hitung nilai uji statistik** <br>\n",
    "Hitung nilai z dengan rumus\n",
    "\n",
    "$$ z = \\frac{\\bar{x} - \\mu_0}{\\sigma/\\sqrt{n}} $$\n",
    "\n",
    "Hitung nilai P\n",
    "\n",
    "**6. KEPUTUSAN : Tolak $H_0$ jika $(z > z_{\\alpha/2}$ atau $z < -z_{\\alpha/2})$ dan $p < \\alpha$**"
   ]
  },
  {
   "cell_type": "code",
   "execution_count": 40,
   "metadata": {},
   "outputs": [
    {
     "name": "stdout",
     "output_type": "stream",
     "text": [
      "Nilai z : -4.9648\n",
      "Nilai z_alpha/2 : 1.96\n",
      "Nilai P : 3.437826459163882e-07\n",
      "H0 ditolak\n"
     ]
    },
    {
     "data": {
      "image/png": "[encoded data removed]",
      "text/plain": [
       "<Figure size 864x432 with 1 Axes>"
      ]
     },
     "metadata": {
      "needs_background": "light"
     },
     "output_type": "display_data"
    }
   ],
   "source": [
    "mu = 0.65\n",
    "alpha = 0.05\n",
    "\n",
    "#calculate z \n",
    "z = ztest(df[\"sulphates\"].head(150), mu)\n",
    "\n",
    "#calculate z_alpha\n",
    "z_alpha = st.norm.ppf(1-alpha/2)\n",
    "\n",
    "#calculate p\n",
    "p = st.norm.sf(abs(z))\n",
    "\n",
    "print(f\"Nilai z : {round(z, 4)}\")\n",
    "print(f\"Nilai z_alpha/2 : {round(z_alpha, 4)}\")\n",
    "print(f\"Nilai P : {p}\")\n",
    "\n",
    "if ((z>z_alpha or z < -z_alpha) and p<alpha):\n",
    "    print(\"H0 ditolak\")\n",
    "else:\n",
    "    print(\"H0 diterima\")\n",
    "\n",
    "df[\"sulphates\"].plot(kind=\"box\", figsize=(12, 6))\n",
    "plt.title=(\"Sulphates\")\n",
    "plt.show()"
   ]
  },
  {
   "attachments": {},
   "cell_type": "markdown",
   "metadata": {},
   "source": [
    "Dari hasil di atas, nampak bahwa H0 ditolak. Jadi, **rata-rata 150 baris pertama kolom sulphates bukan 0.65**"
   ]
  },
  {
   "attachments": {},
   "cell_type": "markdown",
   "metadata": {},
   "source": [
    "### d) Nilai rata-rata total sulfur dioxide di bawah 35\n",
    "\n",
    "**1. Tentukan nilai hipotesis nol ($H_0$)** <br>\n",
    "$H_0$: Nilai rata rata total sulfur dioxide sama dengan $35$ ($\\mu = 35$)  \n",
    "\n",
    "**2. Tentukan hipotesis alternatif ($H_1$)** <br>\n",
    "$H_1$: Nilai rata rata total sulfur dioxide lebih dari $35$ ($\\mu < 35$)\n",
    "\n",
    "**3. Tentukan tingkat signifikan** <br>\n",
    "Tingkat Signifikan $\\alpha = 0.05$\n",
    "\n",
    "**4. Tentukan uji statistik yang sesuai dan tentukan daerah kritis.** <br>\n",
    "Uji statistik: **One Tailed Mean Test** <br>\n",
    "Critical section: $z < -z_\\alpha$ : $z < -z_{0.05}$\n",
    "\n",
    "**5. Hitung nilai uji statistik** <br>\n",
    "Hitung nilai z dengan rumus\n",
    "\n",
    "$$ z = \\frac{\\bar{x} - \\mu_0}{\\sigma/\\sqrt{n}} $$\n",
    "\n",
    "Hitung nilai P\n",
    "\n",
    "**6. KEPUTUSAN : Tolak $H_0$ jika $z < -z_\\alpha$ dan $p < \\alpha$**"
   ]
  },
  {
   "cell_type": "code",
   "execution_count": 31,
   "metadata": {},
   "outputs": [
    {
     "name": "stdout",
     "output_type": "stream",
     "text": [
      "Nilai z : 16.7864\n",
      "Nilai z_alpha : 1.6449\n",
      "Nilai P : 1.5348545974028345e-63\n",
      "H0 diterima\n"
     ]
    },
    {
     "data": {
      "image/png": "[encoded data removed]",
      "text/plain": [
       "<Figure size 864x432 with 1 Axes>"
      ]
     },
     "metadata": {
      "needs_background": "light"
     },
     "output_type": "display_data"
    }
   ],
   "source": [
    "mu = 35\n",
    "alpha = 0.05\n",
    "\n",
    "#calculate z \n",
    "z = ztest(df[\"total sulfur dioxide\"], mu)\n",
    "\n",
    "#calculate z_alpha\n",
    "z_alpha = st.norm.ppf(1-alpha)\n",
    "\n",
    "#calculate p\n",
    "p = st.norm.sf(abs(z))\n",
    "\n",
    "print(f\"Nilai z : {round(z, 4)}\")\n",
    "print(f\"Nilai z_alpha : {round(z_alpha, 4)}\")\n",
    "print(f\"Nilai P : {p}\")\n",
    "\n",
    "if (z < -z_alpha and p<alpha):\n",
    "    print(\"H0 ditolak\")\n",
    "else:\n",
    "    print(\"H0 diterima\")\n",
    "\n",
    "df[\"total sulfur dioxide\"].plot(kind=\"box\", figsize=(12, 6))\n",
    "plt.title=(\"Total Sulfur Dioxide\")\n",
    "plt.show()"
   ]
  },
  {
   "attachments": {},
   "cell_type": "markdown",
   "metadata": {},
   "source": [
    "Dari hasil di atas, nampak bahwa H0 diterima. Jadi, **rata-rata total sulfur dioxide tidak berada di bawah 35**"
   ]
  },
  {
   "attachments": {},
   "cell_type": "markdown",
   "metadata": {},
   "source": [
    "### Proporsi nilai total Sulfat Dioxide yang lebih dari 40, adalah tidak sama dengan 50%\n",
    "\n",
    "**1. Tentukan nilai hipotesis nol ($H_0$)** <br>\n",
    "$H_0$: Proporsi nilai total Sulfat Dioxide yang lebih dari 40, adalah sama dengan 50% $0.5$ ($p = 0.5$)  \n",
    "\n",
    "**2. Tentukan hipotesis alternatif ($H_1$)** <br>\n",
    "$H_1$: Proporsi nilai total Sulfat Dioxide yang lebih dari 40, adalah tidak sama dengan 50% ($p \\ne 0.5$)\n",
    "\n",
    "**3. Tentukan tingkat signifikan** <br>\n",
    "Tingkat Signifikan $\\alpha = 0.05$\n",
    "\n",
    "**4. Tentukan uji statistik yang sesuai dan tentukan daerah kritis.** <br>\n",
    "Uji statistik: **Uji Variabel Binomial X dengan $p$ = $p_0$** <br>\n",
    "Critical section: $z > z_{\\alpha/2}$ atau $z < -z_{\\alpha/2}$  : $z > z_{0.025}$ atau $z < -z_{0.025}$\n",
    "\n",
    "**5. Hitung nilai uji statistik** <br>\n",
    "Hitung nilai z dengan rumus\n",
    "\n",
    "$$ z = \\frac{\\hat{p} - p_0}{\\sqrt{p_0q_0/n}} $$\n",
    "\n",
    "Hitung nilai P dari x (jumlah sukses)\n",
    "\n",
    "**6. KEPUTUSAN : Tolak $H_0$ jika $(z > z_{\\alpha/2}$ atau $z < -z_{\\alpha/2})$ dan $p < \\alpha$**"
   ]
  },
  {
   "cell_type": "code",
   "execution_count": 39,
   "metadata": {},
   "outputs": [
    {
     "name": "stdout",
     "output_type": "stream",
     "text": [
      "Nilai z : 0.7589\n",
      "Nilai z_alpha/2 : 1.96\n",
      "Nilai P : 0.22394223913205574\n",
      "H0 diterima\n"
     ]
    },
    {
     "data": {
      "image/png": "[encoded data removed]",
      "text/plain": [
       "<Figure size 864x432 with 1 Axes>"
      ]
     },
     "metadata": {
      "needs_background": "light"
     },
     "output_type": "display_data"
    }
   ],
   "source": [
    "alpha = 0.05\n",
    "# total sulfur dioxide count\n",
    "n = len(df[\"total sulfur dioxide\"])\n",
    "# total sulfur dioxide > 40 count\n",
    "n_sampel = len(df[df[\"total sulfur dioxide\"] > 40])\n",
    "p1 = n_sampel / n\n",
    "p0 = 0.5\n",
    "q0 = 0.5\n",
    "\n",
    "#calculate z\n",
    "z = (p1-p0)/math.sqrt(p0*q0/n)\n",
    "\n",
    "#calculate z alpha\n",
    "z_alpha = st.norm.ppf(1-alpha/2)\n",
    "\n",
    "#calculate p\n",
    "p = st.norm.sf(abs(z))\n",
    "\n",
    "print(f\"Nilai z : {round(z, 4)}\")\n",
    "print(f\"Nilai z_alpha/2 : {round(z_alpha, 4)}\")\n",
    "print(f\"Nilai P : {p}\")\n",
    "\n",
    "if ((z>z_alpha or z < -z_alpha) and p<alpha):\n",
    "    print(\"H0 ditolak\")\n",
    "else:\n",
    "    print(\"H0 diterima\")\n",
    "\n",
    "df[\"total sulfur dioxide\"].plot(kind=\"box\", figsize=(12, 6))\n",
    "plt.title=(\"Total Sulfur Dioxide\")\n",
    "plt.show()"
   ]
  },
  {
   "attachments": {},
   "cell_type": "markdown",
   "metadata": {},
   "source": [
    "Dari hasil di atas, nampak bahwa H0 diterima. Jadi, **proporsi nilai total Sulfat Dioxide yang lebih dari 40, adalah sama dengan 50%**"
   ]
  }
 ],
 "metadata": {
  "kernelspec": {
   "display_name": "base",
   "language": "python",
   "name": "python3"
  },
  "language_info": {
   "codemirror_mode": {
    "name": "ipython",
    "version": 3
   },
   "file_extension": ".py",
   "mimetype": "text/x-python",
   "name": "python",
   "nbconvert_exporter": "python",
   "pygments_lexer": "ipython3",
   "version": "3.8.8"
  },
  "orig_nbformat": 4,
  "vscode": {
   "interpreter": {
    "hash": "ad2bdc8ecc057115af97d19610ffacc2b4e99fae6737bb82f5d7fb13d2f2c186"
   }
  }
 },
 "nbformat": 4,
 "nbformat_minor": 2
}
